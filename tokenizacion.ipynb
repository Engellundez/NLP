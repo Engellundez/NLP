{
 "cells": [
  {
   "cell_type": "code",
   "execution_count": 1,
   "metadata": {},
   "outputs": [],
   "source": [
    "texto = \"El gato es negro y el perro es blanco\"\n",
    "texto = texto.lower()"
   ]
  },
  {
   "cell_type": "code",
   "execution_count": 2,
   "metadata": {},
   "outputs": [
    {
     "name": "stderr",
     "output_type": "stream",
     "text": [
      "[nltk_data] Downloading package stopwords to C:\\Users\\Engel\n",
      "[nltk_data]     Lundez\\AppData\\Roaming\\nltk_data...\n",
      "[nltk_data]   Package stopwords is already up-to-date!\n"
     ]
    },
    {
     "data": {
      "text/plain": [
       "True"
      ]
     },
     "execution_count": 2,
     "metadata": {},
     "output_type": "execute_result"
    }
   ],
   "source": [
    "import nltk\n",
    "\n",
    "nltk.download('stopwords')"
   ]
  },
  {
   "cell_type": "code",
   "execution_count": 3,
   "metadata": {},
   "outputs": [],
   "source": [
    "from nltk.corpus import stopwords\n",
    "from nltk.tokenize import word_tokenize"
   ]
  },
  {
   "cell_type": "code",
   "execution_count": 4,
   "metadata": {},
   "outputs": [
    {
     "name": "stdout",
     "output_type": "stream",
     "text": [
      "{'hubieseis', 'uno', 'muchos', 'estuvieras', 'que', 'otras', 'serías', 'estaba', 'habiendo', 'vuestra', 'habrían', 'hubiera', 'estuve', 'tuvieseis', 'tenido', 'somos', 'tienen', 'tengas', 'otra', 'tuvieron', 'estarías', 'erais', 'algunos', 'tenéis', 'hubieron', 'tuviesen', 'tuyo', 'tenga', 'su', 'tuviera', 'habéis', 'os', 'fuese', 'e', 'vosotros', 'serían', 'tenidas', 'todo', 'hubisteis', 'era', 'para', 'estaría', 'tengáis', 'nosotras', 'míos', 'qué', 'hayamos', 'del', 'había', 'éramos', 'habida', 'habíamos', 'fueron', 'estuvierais', 'tuvimos', 'estará', 'quienes', 'ante', 'mío', 'seáis', 'algunas', 'tus', 'tendríais', 'ese', 'habido', 'hube', 'seréis', 'estando', 'habrías', 'tened', 'estemos', 'fuesen', 'mí', 'hasta', 'estabais', 'tanto', 'esos', 'haya', 'estaban', 'todos', 'fuera', 'fuésemos', 'son', 'sería', 'suya', 'entre', 'fuisteis', 'habíais', 'hubiese', 'estaréis', 'estuviésemos', 'porque', 'tuvierais', 'hubierais', 'nada', 'habremos', 'seríamos', 'tuviéramos', 'estuviéramos', 'ya', 'suyos', 'estés', 'hubieran', 'estás', 'mi', 'esas', 'eran', 'tuviese', 'tuviésemos', 'teníais', 'tuvisteis', 'sentid', 'suyo', 'tendremos', 'sobre', 'ti', 'serás', 'esa', 'ella', 'estuvieses', 'nuestros', 'vuestras', 'una', 'eres', 'fui', 'estaríais', 'seríais', 'sentido', 'ha', 'habrán', 'suyas', 'fuerais', 'estuvo', 'tenida', 'estabas', 'fueseis', 'fuimos', 'estada', 'tenían', 'estad', 'habríamos', 'tuyas', 'sintiendo', 'estarían', 'estadas', 'habías', 'hubimos', 'o', 'tendrán', 'estaríamos', 'estuviste', 'otro', 'vuestros', 'también', 'tengan', 'tuvieses', 'quien', 'él', 'tendríamos', 'algo', 'hubiéramos', 'tu', 'estaré', 'sin', 'han', 'tuvieran', 'de', 'estos', 'tenemos', 'tenía', 'tiene', 'sea', 'otros', 'los', 'en', 'habrá', 'tendría', 'tengo', 'estarán', 'unos', 'fuéramos', 'tuvo', 'habidas', 'hayan', 'fueras', 'vosotras', 'seas', 'esta', 'nuestro', 'no', 'es', 'tendrás', 'seré', 'cuando', 'sentida', 'tuya', 'desde', 'un', 'este', 'vuestro', 'sentidas', 'muy', 'eras', 'fueses', 'a', 'seamos', 'ellos', 'me', 'hubo', 'el', 'le', 'tenías', 'donde', 'mis', 'estáis', 'estuvisteis', 'hubiesen', 'habrás', 'tuvieras', 'tendré', 'habidos', 'estábamos', 'lo', 'y', 'fue', 'están', 'estamos', 'como', 'esto', 'estuvieran', 'estaremos', 'tendrías', 'sus', 'ellas', 'estuvieseis', 'serán', 'esté', 'al', 'tuviste', 'las', 'mía', 'nosotros', 'sean', 'estados', 'habréis', 'tienes', 'fuiste', 'la', 'cual', 'tengamos', 'estoy', 'hemos', 'estuviese', 'yo', 'teniendo', 'estas', 'tendréis', 'estar', 'teníamos', 'nuestra', 'tendrá', 'les', 'estado', 'hubieses', 'durante', 'tuve', 'hayas', 'antes', 'hubiésemos', 'se', 'mías', 'poco', 'estén', 'siente', 'sentidos', 'estuvieron', 'tendrían', 'nuestras', 'tenidos', 'estuviera', 'hay', 'hayáis', 'nos', 'has', 'habría', 'estuviesen', 'te', 'habríais', 'tú', 'soy', 'estuvimos', 'sois', 'más', 'contra', 'fueran', 'ni', 'eso', 'sí', 'está', 'estéis', 'con', 'estarás', 'mucho', 'habré', 'hubiste', 'pero', 'por', 'he', 'será', 'tuyos', 'habían', 'seremos', 'hubieras'}\n"
     ]
    }
   ],
   "source": [
    "stop_words = set(stopwords.words('spanish'))\n",
    "print (stop_words)"
   ]
  },
  {
   "cell_type": "code",
   "execution_count": 5,
   "metadata": {},
   "outputs": [
    {
     "name": "stderr",
     "output_type": "stream",
     "text": [
      "[nltk_data] Downloading package punkt to C:\\Users\\Engel\n",
      "[nltk_data]     Lundez\\AppData\\Roaming\\nltk_data...\n",
      "[nltk_data]   Package punkt is already up-to-date!\n"
     ]
    },
    {
     "data": {
      "text/plain": [
       "True"
      ]
     },
     "execution_count": 5,
     "metadata": {},
     "output_type": "execute_result"
    }
   ],
   "source": [
    "nltk.download('punkt')"
   ]
  },
  {
   "cell_type": "code",
   "execution_count": 6,
   "metadata": {},
   "outputs": [
    {
     "name": "stdout",
     "output_type": "stream",
     "text": [
      "['el', 'gato', 'es', 'negro', 'y', 'el', 'perro', 'es', 'blanco']\n"
     ]
    }
   ],
   "source": [
    "tokens = word_tokenize(texto)\n",
    "print(tokens)"
   ]
  },
  {
   "cell_type": "code",
   "execution_count": 8,
   "metadata": {},
   "outputs": [
    {
     "name": "stdout",
     "output_type": "stream",
     "text": [
      "['gato', 'negro', 'perro', 'blanco']\n"
     ]
    }
   ],
   "source": [
    "texto_filtrado = [word for word in tokens if not word in stop_words]\n",
    "print (texto_filtrado)"
   ]
  },
  {
   "cell_type": "code",
   "execution_count": 9,
   "metadata": {},
   "outputs": [
    {
     "name": "stderr",
     "output_type": "stream",
     "text": [
      "[nltk_data] Downloading package wordnet to C:\\Users\\Engel\n",
      "[nltk_data]     Lundez\\AppData\\Roaming\\nltk_data...\n"
     ]
    },
    {
     "data": {
      "text/plain": [
       "True"
      ]
     },
     "execution_count": 9,
     "metadata": {},
     "output_type": "execute_result"
    }
   ],
   "source": [
    "nltk.download('wordnet')"
   ]
  },
  {
   "cell_type": "code",
   "execution_count": 11,
   "metadata": {},
   "outputs": [
    {
     "name": "stdout",
     "output_type": "stream",
     "text": [
      "camin\n",
      "camin\n",
      "camin\n",
      "camin\n"
     ]
    }
   ],
   "source": [
    "from nltk.stem import SnowballStemmer\n",
    "\n",
    "# Creamos el stemmer en español\n",
    "stemmer = SnowballStemmer('spanish')\n",
    "\n",
    "# Probarlo en la palabra \"Corriendo\"\n",
    "print(stemmer.stem('caminando'))\n",
    "print(stemmer.stem('caminar'))\n",
    "print(stemmer.stem('caminó'))\n",
    "print(stemmer.stem('caminaría'))"
   ]
  },
  {
   "cell_type": "code",
   "execution_count": 12,
   "metadata": {},
   "outputs": [
    {
     "name": "stdout",
     "output_type": "stream",
     "text": [
      "caminar -> caminar\n",
      "caminando -> caminar\n",
      "caminó -> caminar\n"
     ]
    }
   ],
   "source": [
    "import spacy\n",
    "\n",
    "# Cargamos el modelo en español\n",
    "nlp = spacy.load('es_core_news_sm')\n",
    "\n",
    "# Crear un documento\n",
    "doc = nlp(\"caminar caminando caminó\")\n",
    "\n",
    "# imprimir el texto y el lema de cada token\n",
    "for token in doc:\n",
    "    print(token.text, \"->\", token.lemma_)"
   ]
  }
 ],
 "metadata": {
  "kernelspec": {
   "display_name": "env",
   "language": "python",
   "name": "python3"
  },
  "language_info": {
   "codemirror_mode": {
    "name": "ipython",
    "version": 3
   },
   "file_extension": ".py",
   "mimetype": "text/x-python",
   "name": "python",
   "nbconvert_exporter": "python",
   "pygments_lexer": "ipython3",
   "version": "3.11.9"
  }
 },
 "nbformat": 4,
 "nbformat_minor": 2
}
